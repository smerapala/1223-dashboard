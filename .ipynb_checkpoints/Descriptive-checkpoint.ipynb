{
 "cells": [
  {
   "cell_type": "code",
   "execution_count": 4,
   "metadata": {},
   "outputs": [],
   "source": [
    "import pandas as pd\n",
    "#import plotly\n",
    "#import dash\n",
    "#!cd CS_Projects/Dashboard_1223/"
   ]
  },
  {
   "cell_type": "code",
   "execution_count": 5,
   "metadata": {},
   "outputs": [
    {
     "data": {
      "text/html": [
       "<div>\n",
       "<style scoped>\n",
       "    .dataframe tbody tr th:only-of-type {\n",
       "        vertical-align: middle;\n",
       "    }\n",
       "\n",
       "    .dataframe tbody tr th {\n",
       "        vertical-align: top;\n",
       "    }\n",
       "\n",
       "    .dataframe thead th {\n",
       "        text-align: right;\n",
       "    }\n",
       "</style>\n",
       "<table border=\"1\" class=\"dataframe\">\n",
       "  <thead>\n",
       "    <tr style=\"text-align: right;\">\n",
       "      <th></th>\n",
       "      <th>Participation</th>\n",
       "      <th>Reading Assignment 2</th>\n",
       "      <th>Reading Assignment 3</th>\n",
       "      <th>Reading Assignment 4</th>\n",
       "      <th>Reading Assignment 5</th>\n",
       "      <th>Tracing Table Practice</th>\n",
       "      <th>Reading Assignment 6</th>\n",
       "      <th>Reading Assignment 7</th>\n",
       "      <th>Reading Assignment 8</th>\n",
       "      <th>Reading Assignment 9</th>\n",
       "      <th>...</th>\n",
       "      <th>Letter Grade</th>\n",
       "      <th>Reweight (based on reduced weight on MT1 and increased weight on MT2)</th>\n",
       "      <th>Letter Grade.1</th>\n",
       "      <th>Reweight 2</th>\n",
       "      <th>Letter Grade.2</th>\n",
       "      <th>Final Grade</th>\n",
       "      <th>Letter Grade.3</th>\n",
       "      <th>Unnamed: 61</th>\n",
       "      <th>Unnamed: 62</th>\n",
       "      <th>Unnamed: 63</th>\n",
       "    </tr>\n",
       "  </thead>\n",
       "  <tbody>\n",
       "    <tr>\n",
       "      <th>0</th>\n",
       "      <td>3.00</td>\n",
       "      <td>10.00</td>\n",
       "      <td>10.0</td>\n",
       "      <td>10.00</td>\n",
       "      <td>10.00</td>\n",
       "      <td>5.0</td>\n",
       "      <td>10.00</td>\n",
       "      <td>10.00</td>\n",
       "      <td>10.0</td>\n",
       "      <td>10.00</td>\n",
       "      <td>...</td>\n",
       "      <td>A</td>\n",
       "      <td>100.000000</td>\n",
       "      <td>A</td>\n",
       "      <td>100.000000</td>\n",
       "      <td>A</td>\n",
       "      <td>100.000000</td>\n",
       "      <td>A</td>\n",
       "      <td>NaN</td>\n",
       "      <td>NaN</td>\n",
       "      <td>NaN</td>\n",
       "    </tr>\n",
       "    <tr>\n",
       "      <th>1</th>\n",
       "      <td>2.74</td>\n",
       "      <td>9.81</td>\n",
       "      <td>10.0</td>\n",
       "      <td>9.55</td>\n",
       "      <td>9.03</td>\n",
       "      <td>5.0</td>\n",
       "      <td>9.04</td>\n",
       "      <td>9.49</td>\n",
       "      <td>10.0</td>\n",
       "      <td>9.36</td>\n",
       "      <td>...</td>\n",
       "      <td>D</td>\n",
       "      <td>54.860492</td>\n",
       "      <td>E</td>\n",
       "      <td>55.060492</td>\n",
       "      <td>E</td>\n",
       "      <td>63.460492</td>\n",
       "      <td>D</td>\n",
       "      <td>NaN</td>\n",
       "      <td>NaN</td>\n",
       "      <td>NaN</td>\n",
       "    </tr>\n",
       "    <tr>\n",
       "      <th>2</th>\n",
       "      <td>2.47</td>\n",
       "      <td>9.43</td>\n",
       "      <td>10.0</td>\n",
       "      <td>9.36</td>\n",
       "      <td>8.83</td>\n",
       "      <td>4.0</td>\n",
       "      <td>8.75</td>\n",
       "      <td>10.00</td>\n",
       "      <td>10.0</td>\n",
       "      <td>9.18</td>\n",
       "      <td>...</td>\n",
       "      <td>E</td>\n",
       "      <td>42.276027</td>\n",
       "      <td>E</td>\n",
       "      <td>43.376027</td>\n",
       "      <td>E</td>\n",
       "      <td>49.276027</td>\n",
       "      <td>E</td>\n",
       "      <td>NaN</td>\n",
       "      <td>NaN</td>\n",
       "      <td>NaN</td>\n",
       "    </tr>\n",
       "    <tr>\n",
       "      <th>3</th>\n",
       "      <td>2.47</td>\n",
       "      <td>9.43</td>\n",
       "      <td>10.0</td>\n",
       "      <td>9.94</td>\n",
       "      <td>10.00</td>\n",
       "      <td>4.0</td>\n",
       "      <td>9.42</td>\n",
       "      <td>10.00</td>\n",
       "      <td>10.0</td>\n",
       "      <td>9.00</td>\n",
       "      <td>...</td>\n",
       "      <td>D</td>\n",
       "      <td>51.814600</td>\n",
       "      <td>E</td>\n",
       "      <td>51.714600</td>\n",
       "      <td>E</td>\n",
       "      <td>60.214600</td>\n",
       "      <td>D</td>\n",
       "      <td>NaN</td>\n",
       "      <td>NaN</td>\n",
       "      <td>NaN</td>\n",
       "    </tr>\n",
       "    <tr>\n",
       "      <th>4</th>\n",
       "      <td>2.91</td>\n",
       "      <td>10.00</td>\n",
       "      <td>10.0</td>\n",
       "      <td>10.00</td>\n",
       "      <td>10.00</td>\n",
       "      <td>5.0</td>\n",
       "      <td>10.00</td>\n",
       "      <td>10.00</td>\n",
       "      <td>10.0</td>\n",
       "      <td>10.00</td>\n",
       "      <td>...</td>\n",
       "      <td>E</td>\n",
       "      <td>47.660000</td>\n",
       "      <td>E</td>\n",
       "      <td>47.260000</td>\n",
       "      <td>E</td>\n",
       "      <td>53.560000</td>\n",
       "      <td>E</td>\n",
       "      <td>NaN</td>\n",
       "      <td>Grade Breakdown</td>\n",
       "      <td>NaN</td>\n",
       "    </tr>\n",
       "  </tbody>\n",
       "</table>\n",
       "<p>5 rows × 64 columns</p>\n",
       "</div>"
      ],
      "text/plain": [
       "   Participation  Reading Assignment 2  Reading Assignment 3  \\\n",
       "0           3.00                 10.00                  10.0   \n",
       "1           2.74                  9.81                  10.0   \n",
       "2           2.47                  9.43                  10.0   \n",
       "3           2.47                  9.43                  10.0   \n",
       "4           2.91                 10.00                  10.0   \n",
       "\n",
       "   Reading Assignment 4  Reading Assignment 5  Tracing Table Practice  \\\n",
       "0                 10.00                 10.00                     5.0   \n",
       "1                  9.55                  9.03                     5.0   \n",
       "2                  9.36                  8.83                     4.0   \n",
       "3                  9.94                 10.00                     4.0   \n",
       "4                 10.00                 10.00                     5.0   \n",
       "\n",
       "   Reading Assignment 6  Reading Assignment 7  Reading Assignment 8  \\\n",
       "0                 10.00                 10.00                  10.0   \n",
       "1                  9.04                  9.49                  10.0   \n",
       "2                  8.75                 10.00                  10.0   \n",
       "3                  9.42                 10.00                  10.0   \n",
       "4                 10.00                 10.00                  10.0   \n",
       "\n",
       "   Reading Assignment 9  ...  Letter Grade  \\\n",
       "0                 10.00  ...             A   \n",
       "1                  9.36  ...             D   \n",
       "2                  9.18  ...             E   \n",
       "3                  9.00  ...             D   \n",
       "4                 10.00  ...             E   \n",
       "\n",
       "   Reweight (based on reduced weight on MT1 and increased weight on MT2)  \\\n",
       "0                                         100.000000                       \n",
       "1                                          54.860492                       \n",
       "2                                          42.276027                       \n",
       "3                                          51.814600                       \n",
       "4                                          47.660000                       \n",
       "\n",
       "   Letter Grade.1  Reweight 2  Letter Grade.2  Final Grade  Letter Grade.3  \\\n",
       "0               A  100.000000               A   100.000000               A   \n",
       "1               E   55.060492               E    63.460492               D   \n",
       "2               E   43.376027               E    49.276027               E   \n",
       "3               E   51.714600               E    60.214600               D   \n",
       "4               E   47.260000               E    53.560000               E   \n",
       "\n",
       "   Unnamed: 61      Unnamed: 62  Unnamed: 63  \n",
       "0          NaN              NaN          NaN  \n",
       "1          NaN              NaN          NaN  \n",
       "2          NaN              NaN          NaN  \n",
       "3          NaN              NaN          NaN  \n",
       "4          NaN  Grade Breakdown          NaN  \n",
       "\n",
       "[5 rows x 64 columns]"
      ]
     },
     "execution_count": 5,
     "metadata": {},
     "output_type": "execute_result"
    }
   ],
   "source": [
    "df = pd.read_csv('data/grades.csv')\n",
    "df.head()"
   ]
  },
  {
   "cell_type": "code",
   "execution_count": 23,
   "metadata": {},
   "outputs": [
    {
     "name": "stdout",
     "output_type": "stream",
     "text": [
      "CPU times: user 4 µs, sys: 2 µs, total: 6 µs\n",
      "Wall time: 29.1 µs\n"
     ]
    }
   ],
   "source": [
    "%time"
   ]
  },
  {
   "cell_type": "code",
   "execution_count": 15,
   "metadata": {},
   "outputs": [
    {
     "data": {
      "text/plain": [
       "array([[<matplotlib.axes._subplots.AxesSubplot object at 0x11fce2940>]],\n",
       "      dtype=object)"
      ]
     },
     "execution_count": 15,
     "metadata": {},
     "output_type": "execute_result"
    },
    {
     "data": {
      "image/png": "[encoded data removed]",
      "text/plain": [
       "<Figure size 432x288 with 1 Axes>"
      ]
     },
     "metadata": {
      "needs_background": "light"
     },
     "output_type": "display_data"
    }
   ],
   "source": [
    "df.hist(column='Final Grade', bins=20)\n",
    "#df.shape\n",
    "#df.dtypes"
   ]
  },
  {
   "cell_type": "code",
   "execution_count": 3,
   "metadata": {},
   "outputs": [
    {
     "name": "stdout",
     "output_type": "stream",
     "text": [
      "Descriptive.ipynb \u001b[34mdata\u001b[m\u001b[m\n"
     ]
    }
   ],
   "source": []
  },
  {
   "cell_type": "code",
   "execution_count": null,
   "metadata": {},
   "outputs": [],
   "source": []
  }
 ],
 "metadata": {
  "kernelspec": {
   "display_name": "Python 3",
   "language": "python",
   "name": "python3"
  },
  "language_info": {
   "codemirror_mode": {
    "name": "ipython",
    "version": 3
   },
   "file_extension": ".py",
   "mimetype": "text/x-python",
   "name": "python",
   "nbconvert_exporter": "python",
   "pygments_lexer": "ipython3",
   "version": "3.7.3"
  }
 },
 "nbformat": 4,
 "nbformat_minor": 4
}
