{
  "nbformat": 4,
  "nbformat_minor": 0,
  "metadata": {
    "colab": {
      "name": "2048.ipynb",
      "provenance": [],
      "collapsed_sections": [],
      "include_colab_link": true
    },
    "kernelspec": {
      "name": "python3",
      "display_name": "Python 3"
    },
    "accelerator": "GPU"
  },
  "cells": [
    {
      "cell_type": "markdown",
      "metadata": {
        "id": "view-in-github",
        "colab_type": "text"
      },
      "source": [
        "<a href=\"https://colab.research.google.com/github/smerapala/1223-dashboard/blob/master/2048.ipynb\" target=\"_parent\"><img src=\"https://colab.research.google.com/assets/colab-badge.svg\" alt=\"Open In Colab\"/></a>"
      ]
    },
    {
      "cell_type": "code",
      "metadata": {
        "id": "eXoY_ujSAQY0"
      },
      "source": [
        "import random\r\n",
        "import copy\r\n",
        "import math\r\n",
        "import time\r\n",
        "\r\n",
        "from IPython.display import clear_output\r\n",
        "import torch\r\n",
        "import torch.nn as nn\r\n",
        "import torch.nn.functional as F\r\n",
        "\r\n",
        "torch.set_default_tensor_type('torch.cuda.FloatTensor')"
      ],
      "execution_count": null,
      "outputs": []
    },
    {
      "cell_type": "code",
      "metadata": {
        "id": "ejpL_LKZ-7OK"
      },
      "source": [
        "class GameBoard():\r\n",
        "  def __init__(self):\r\n",
        "    self.columns = 4\r\n",
        "    self.rows = 4\r\n",
        "    self.score = 0\r\n",
        "    self.rep = [[0 for c in range(self.columns)] for r in range(self.rows)]\r\n",
        "    first_position = (random.randint(0,3), random.randint(0,3), random.randrange(2,5,2))\r\n",
        "    second_position = (random.randint(0,3), random.randint(0,3), random.randrange(2,5,2))\r\n",
        "    while first_position[0] == second_position[0] and first_position[1] == second_position[1]:\r\n",
        "      second_position = (random.randint(0,3), random.randint(0,3), random.randrange(2,5,2))\r\n",
        "    self.rep[first_position[0]][first_position[1]] = first_position[2]\r\n",
        "    self.rep[second_position[0]][second_position[1]] = second_position[2]\r\n",
        "  \r\n",
        "  def __str__(self):\r\n",
        "    result = \"\"\r\n",
        "    for r in range(self.rows):\r\n",
        "      for c in range(self.columns):\r\n",
        "        result += f\"{self.rep[r][c]}\\t\"\r\n",
        "      result += \"\\n\"\r\n",
        "    return(result)\r\n",
        "\r\n",
        "  def combine(self, first_row, first_col, second_row, second_col):\r\n",
        "    self.rep[first_row][first_col] *= 2\r\n",
        "    self.score += self.rep[first_row][first_col]\r\n",
        "    self.rep[second_row][second_col] = 0\r\n",
        "\r\n",
        "  def new_block(self):\r\n",
        "    new_block = (random.randint(0,3), random.randint(0,3), random.randrange(2,5,2))\r\n",
        "    while self.rep[new_block[0]][new_block[1]] != 0:\r\n",
        "      new_block = (random.randint(0,3), random.randint(0,3), random.randrange(2,5,2))\r\n",
        "    self.rep[new_block[0]][new_block[1]] = new_block[2]\r\n",
        "\r\n",
        "  def has_lost(self):\r\n",
        "    lost = True\r\n",
        "    for c in range(4):\r\n",
        "      for r in range(4):\r\n",
        "        if self.rep[r][c] == 0:\r\n",
        "          lost = False\r\n",
        "        if c != self.columns-1 and self.rep[r][c] == self.rep[r][c+1]:\r\n",
        "          lost = False\r\n",
        "        if r != self.rows-1 and self.rep[r][c] == self.rep[r+1][c]:\r\n",
        "          lost = False\r\n",
        "    return lost\r\n",
        "\r\n",
        "  def up_shift(self):\r\n",
        "    old_rep = copy.deepcopy(self.rep)\r\n",
        "    for c in range(self.columns):\r\n",
        "      for i in range(self.rows-1):\r\n",
        "        for r in range(1,self.rows):\r\n",
        "          if self.rep[r-1][c] == 0 and self.rep[r][c] != 0:\r\n",
        "            self.rep[r-1][c] = self.rep[r][c]\r\n",
        "            self.rep[r][c] = 0\r\n",
        "      for r in range(1,self.rows):\r\n",
        "        if self.rep[r-1][c] == self.rep[r][c]:\r\n",
        "          self.combine(r-1,c,r,c)\r\n",
        "      for i in range(self.rows-1):\r\n",
        "        for r in range(1,self.rows):\r\n",
        "          if self.rep[r-1][c] == 0 and self.rep[r][c] != 0:\r\n",
        "            self.rep[r-1][c] = self.rep[r][c]\r\n",
        "            self.rep[r][c] = 0\r\n",
        "    if old_rep != self.rep:\r\n",
        "      self.new_block()\r\n",
        "        \r\n",
        "  def down_shift(self):\r\n",
        "    old_rep = copy.deepcopy(self.rep)\r\n",
        "    for c in range(self.columns):\r\n",
        "      for i in range(self.rows-1):\r\n",
        "        for r in range(self.rows-2,-1,-1):\r\n",
        "          if self.rep[r+1][c] == 0 and self.rep[r][c] != 0:\r\n",
        "            self.rep[r+1][c] = self.rep[r][c]\r\n",
        "            self.rep[r][c] = 0\r\n",
        "      for r in range(self.rows-2,-1,-1):\r\n",
        "          if self.rep[r+1][c] == self.rep[r][c]:\r\n",
        "            self.combine(r+1,c,r,c)\r\n",
        "      for i in range(self.rows-1):\r\n",
        "        for r in range(self.rows-2,-1,-1):\r\n",
        "          if self.rep[r+1][c] == 0 and self.rep[r][c] != 0:\r\n",
        "            self.rep[r+1][c] = self.rep[r][c]\r\n",
        "            self.rep[r][c] = 0\r\n",
        "    if old_rep != self.rep:\r\n",
        "      self.new_block()\r\n",
        "\r\n",
        "  def left_shift(self):\r\n",
        "    old_rep = copy.deepcopy(self.rep)\r\n",
        "    for r in range(self.rows):\r\n",
        "      for i in range(self.columns-1):\r\n",
        "        for c in range(1,self.columns):\r\n",
        "          if self.rep[r][c-1] == 0 and self.rep[r][c] != 0:\r\n",
        "            self.rep[r][c-1] = self.rep[r][c]\r\n",
        "            self.rep[r][c] = 0\r\n",
        "      for c in range(1,self.columns):\r\n",
        "        if self.rep[r][c-1] == self.rep[r][c]:\r\n",
        "            self.combine(r,c-1,r,c)\r\n",
        "      for i in range(self.columns-1):\r\n",
        "        for c in range(1,self.columns):\r\n",
        "          if self.rep[r][c-1] == 0 and self.rep[r][c] != 0:\r\n",
        "            self.rep[r][c-1] = self.rep[r][c]\r\n",
        "            self.rep[r][c] = 0\r\n",
        "    if old_rep != self.rep:\r\n",
        "      self.new_block()\r\n",
        "\r\n",
        "  def right_shift(self):\r\n",
        "    old_rep = copy.deepcopy(self.rep)\r\n",
        "    for r in range(self.rows):\r\n",
        "      for i in range(self.columns-1):\r\n",
        "        for c in range(self.columns-2,-1,-1):\r\n",
        "          if self.rep[r][c+1] == 0 and self.rep[r][c] != 0:\r\n",
        "            self.rep[r][c+1] = self.rep[r][c]\r\n",
        "            self.rep[r][c] = 0\r\n",
        "      for c in range(self.columns-2,-1,-1):\r\n",
        "        if self.rep[r][c+1] == self.rep[r][c]:\r\n",
        "          self.combine(r,c+1,r,c)\r\n",
        "      for i in range(self.columns-1):\r\n",
        "        for c in range(self.columns-2,-1,-1):\r\n",
        "          if self.rep[r][c+1] == 0 and self.rep[r][c] != 0:\r\n",
        "            self.rep[r][c+1] = self.rep[r][c]\r\n",
        "            self.rep[r][c] = 0\r\n",
        "    if old_rep != self.rep:\r\n",
        "      self.new_block()\r\n",
        "  \r\n",
        "  def play_human(self):\r\n",
        "    direction = input(\"Direction: \")\r\n",
        "    while direction != \"\":\r\n",
        "      if direction == \"u\":\r\n",
        "        self.up_shift()\r\n",
        "      elif direction == \"d\":\r\n",
        "        self.down_shift()\r\n",
        "      elif direction == \"l\":\r\n",
        "        self.left_shift()\r\n",
        "      else:\r\n",
        "        self.right_shift()\r\n",
        "      print(self)\r\n",
        "      if self.has_lost():\r\n",
        "        print(\"you suck\")\r\n",
        "        break\r\n",
        "      direction = input(\"Direction: \")\r\n",
        "      clear_output()\r\n",
        "\r\n",
        "  def play_network(self, network, print_output=False):\r\n",
        "    while self.has_lost() == False:\r\n",
        "      old = copy.deepcopy(self.rep)\r\n",
        "      direction = network.forward(self).argmax().item()\r\n",
        "      moves = [self.up_shift, self.right_shift, self.down_shift, self.left_shift]\r\n",
        "      moves[direction]()\r\n",
        "      if print_output:\r\n",
        "        print(self)\r\n",
        "        time.sleep(2)\r\n",
        "        clear_output()\r\n",
        "      if old == self.rep:\r\n",
        "        break\r\n",
        "    return self.score"
      ],
      "execution_count": null,
      "outputs": []
    },
    {
      "cell_type": "code",
      "metadata": {
        "colab": {
          "base_uri": "https://localhost:8080/"
        },
        "id": "4thdVomCYHDy",
        "outputId": "831db487-aea5-4b40-8840-24de4e740bc5"
      },
      "source": [
        "game = GameBoard()\n",
        "game.play_human()"
      ],
      "execution_count": null,
      "outputs": [
        {
          "output_type": "stream",
          "text": [
            "0\t2\t0\t0\t\n",
            "0\t0\t0\t0\t\n",
            "0\t0\t0\t4\t\n",
            "0\t2\t4\t4\t\n",
            "\n",
            "Direction: up\n"
          ],
          "name": "stdout"
        }
      ]
    },
    {
      "cell_type": "code",
      "metadata": {
        "id": "IDQJ3aRgjoHd"
      },
      "source": [
        "class Harry(nn.Module):\r\n",
        "    def __init__(self, game):\r\n",
        "      super(Harry, self).__init__()\r\n",
        "      self.input = nn.Linear(game.rows*game.columns*8,game.rows*game.columns)\r\n",
        "      self.output = nn.Linear(game.rows*game.columns,4)\r\n",
        "\r\n",
        "    def forward(self, game):\r\n",
        "      game_input = torch.tensor([int(i) for row in game.rep for number in row for i in \r\n",
        "                    bin(int(math.log(number+1, 2)))[2:].zfill(8)], dtype=torch.float)\r\n",
        "      intermediate = F.relu(self.input(game_input))\r\n",
        "      output = self.output(intermediate)\r\n",
        "      return output"
      ],
      "execution_count": null,
      "outputs": []
    },
    {
      "cell_type": "code",
      "metadata": {
        "id": "UrI0i6gL3v-B"
      },
      "source": [
        "def breed_granual(father, mother):\n",
        "  child = Harry(GameBoard())\n",
        "  params = list(child.named_parameters())\n",
        "  m_params = list(mother.named_parameters())\n",
        "  f_params = list(father.named_parameters())\n",
        "  for set_params in range(0,len(params),2):\n",
        "    for node in range(len(params[set_params][1])):\n",
        "      for weight in range(len(params[set_params][1][node])):\n",
        "        rand = random.choice([f_params[set_params][1][node][weight], m_params[set_params][1][node][weight]])\n",
        "        params[set_params][1][node][weight] = rand\n",
        "\n",
        "  for set_params in range(1,len(params),2):\n",
        "    for bias in range(len(params[set_params][1])):\n",
        "      rand = random.choice([f_params[set_params][1][bias], m_params[set_params][1][bias]])\n",
        "      params[set_params][1][bias] = rand\n",
        "\n",
        "  return child\n",
        "\n",
        "def breed_genetics(father, mother):\n",
        "  child = Harry(GameBoard())\n",
        "  params = list(child.named_parameters())\n",
        "  m_params = list(mother.named_parameters())\n",
        "  f_params = list(father.named_parameters())\n",
        "  for set_params in range(0,len(params),2):\n",
        "    for node in range(len(params[set_params][1])):\n",
        "      rand = random.choice([f_params[set_params][1][node], m_params[set_params][1][node]])\n",
        "      params[set_params][1][node] = rand\n",
        "\n",
        "  for set_params in range(1,len(params),2):\n",
        "    for bias in range(len(params[set_params][1])):\n",
        "      rand = random.choice([f_params[set_params][1][bias], m_params[set_params][1][bias]])\n",
        "      params[set_params][1][bias] = rand\n",
        "\n",
        "  return child"
      ],
      "execution_count": null,
      "outputs": []
    },
    {
      "cell_type": "markdown",
      "metadata": {
        "id": "_xa7E5vm5orO"
      },
      "source": [
        "for breed, do we need to edit weight by weight or a row of weights at a time"
      ]
    },
    {
      "cell_type": "code",
      "metadata": {
        "colab": {
          "base_uri": "https://localhost:8080/",
          "height": 414
        },
        "id": "rh57WVbF-fk9",
        "outputId": "c565e73d-52f7-4427-ec75-160c051f7c78"
      },
      "source": [
        "num_networks = 20\r\n",
        "num_games_network = 10\r\n",
        "num_winners = 2\r\n",
        "num_losers = 3\r\n",
        "num_epochs = 50\r\n",
        "breed = breed_granual\r\n",
        "\r\n",
        "epoch_scores = []\r\n",
        "networks = [Harry(GameBoard()) for i in range(num_networks)]\r\n",
        "\r\n",
        "for epoch_index in range(num_epochs):\r\n",
        "  scores = [sum([GameBoard().play_network(network) for i in range(num_games_network)]) for network in networks]\r\n",
        "\r\n",
        "  winning_network_indices = sorted(range(len(scores)), key=lambda i: scores[i])[-num_winners:]\r\n",
        "  remaining_networks = set([i for i in range(num_networks)]).difference(set(winning_network_indices))\r\n",
        "  losing_network_indices = random.sample(remaining_networks, num_losers)\r\n",
        "\r\n",
        "  winning_networks = [networks[index] for index in winning_network_indices]\r\n",
        "  losing_networks = [networks[index] for index in losing_network_indices]\r\n",
        "  winning_network_scores = [scores[index] for index in winning_network_indices]\r\n",
        "\r\n",
        "  networks = winning_networks\r\n",
        "\r\n",
        "  for i in range(num_networks-num_winners):\r\n",
        "\r\n",
        "    new_network = breed(random.choice(winning_networks), random.choice(winning_networks))\r\n",
        "    networks.append(new_network)\r\n",
        "\r\n",
        "  epoch_scores.append(sum(winning_network_scores))\r\n",
        "\r\n",
        "  if (epoch_index+1)%(int(num_epochs/10)) == 0:\r\n",
        "    print(round((epoch_index+1)/num_epochs, 3))"
      ],
      "execution_count": null,
      "outputs": [
        {
          "output_type": "stream",
          "text": [
            "0.1\n",
            "0.2\n"
          ],
          "name": "stdout"
        },
        {
          "output_type": "error",
          "ename": "KeyboardInterrupt",
          "evalue": "ignored",
          "traceback": [
            "\u001b[0;31m---------------------------------------------------------------------------\u001b[0m",
            "\u001b[0;31mKeyboardInterrupt\u001b[0m                         Traceback (most recent call last)",
            "\u001b[0;32m<ipython-input-5-42923258b595>\u001b[0m in \u001b[0;36m<module>\u001b[0;34m()\u001b[0m\n\u001b[1;32m     24\u001b[0m   \u001b[0;32mfor\u001b[0m \u001b[0mi\u001b[0m \u001b[0;32min\u001b[0m \u001b[0mrange\u001b[0m\u001b[0;34m(\u001b[0m\u001b[0mnum_networks\u001b[0m\u001b[0;34m-\u001b[0m\u001b[0mnum_winners\u001b[0m\u001b[0;34m)\u001b[0m\u001b[0;34m:\u001b[0m\u001b[0;34m\u001b[0m\u001b[0;34m\u001b[0m\u001b[0m\n\u001b[1;32m     25\u001b[0m \u001b[0;34m\u001b[0m\u001b[0m\n\u001b[0;32m---> 26\u001b[0;31m     \u001b[0mnew_network\u001b[0m \u001b[0;34m=\u001b[0m \u001b[0mbreed\u001b[0m\u001b[0;34m(\u001b[0m\u001b[0mrandom\u001b[0m\u001b[0;34m.\u001b[0m\u001b[0mchoice\u001b[0m\u001b[0;34m(\u001b[0m\u001b[0mwinning_networks\u001b[0m\u001b[0;34m)\u001b[0m\u001b[0;34m,\u001b[0m \u001b[0mrandom\u001b[0m\u001b[0;34m.\u001b[0m\u001b[0mchoice\u001b[0m\u001b[0;34m(\u001b[0m\u001b[0mwinning_networks\u001b[0m\u001b[0;34m)\u001b[0m\u001b[0;34m)\u001b[0m\u001b[0;34m\u001b[0m\u001b[0;34m\u001b[0m\u001b[0m\n\u001b[0m\u001b[1;32m     27\u001b[0m     \u001b[0mnetworks\u001b[0m\u001b[0;34m.\u001b[0m\u001b[0mappend\u001b[0m\u001b[0;34m(\u001b[0m\u001b[0mnew_network\u001b[0m\u001b[0;34m)\u001b[0m\u001b[0;34m\u001b[0m\u001b[0;34m\u001b[0m\u001b[0m\n\u001b[1;32m     28\u001b[0m \u001b[0;34m\u001b[0m\u001b[0m\n",
            "\u001b[0;32m<ipython-input-4-8ab79cb34e82>\u001b[0m in \u001b[0;36mbreed_granual\u001b[0;34m(father, mother)\u001b[0m\n\u001b[1;32m      8\u001b[0m       \u001b[0;32mfor\u001b[0m \u001b[0mweight\u001b[0m \u001b[0;32min\u001b[0m \u001b[0mrange\u001b[0m\u001b[0;34m(\u001b[0m\u001b[0mlen\u001b[0m\u001b[0;34m(\u001b[0m\u001b[0mparams\u001b[0m\u001b[0;34m[\u001b[0m\u001b[0mset_params\u001b[0m\u001b[0;34m]\u001b[0m\u001b[0;34m[\u001b[0m\u001b[0;36m1\u001b[0m\u001b[0;34m]\u001b[0m\u001b[0;34m[\u001b[0m\u001b[0mnode\u001b[0m\u001b[0;34m]\u001b[0m\u001b[0;34m)\u001b[0m\u001b[0;34m)\u001b[0m\u001b[0;34m:\u001b[0m\u001b[0;34m\u001b[0m\u001b[0;34m\u001b[0m\u001b[0m\n\u001b[1;32m      9\u001b[0m         \u001b[0mrand\u001b[0m \u001b[0;34m=\u001b[0m \u001b[0mrandom\u001b[0m\u001b[0;34m.\u001b[0m\u001b[0mchoice\u001b[0m\u001b[0;34m(\u001b[0m\u001b[0;34m[\u001b[0m\u001b[0mf_params\u001b[0m\u001b[0;34m[\u001b[0m\u001b[0mset_params\u001b[0m\u001b[0;34m]\u001b[0m\u001b[0;34m[\u001b[0m\u001b[0;36m1\u001b[0m\u001b[0;34m]\u001b[0m\u001b[0;34m[\u001b[0m\u001b[0mnode\u001b[0m\u001b[0;34m]\u001b[0m\u001b[0;34m[\u001b[0m\u001b[0mweight\u001b[0m\u001b[0;34m]\u001b[0m\u001b[0;34m,\u001b[0m \u001b[0mm_params\u001b[0m\u001b[0;34m[\u001b[0m\u001b[0mset_params\u001b[0m\u001b[0;34m]\u001b[0m\u001b[0;34m[\u001b[0m\u001b[0;36m1\u001b[0m\u001b[0;34m]\u001b[0m\u001b[0;34m[\u001b[0m\u001b[0mnode\u001b[0m\u001b[0;34m]\u001b[0m\u001b[0;34m[\u001b[0m\u001b[0mweight\u001b[0m\u001b[0;34m]\u001b[0m\u001b[0;34m]\u001b[0m\u001b[0;34m)\u001b[0m\u001b[0;34m\u001b[0m\u001b[0;34m\u001b[0m\u001b[0m\n\u001b[0;32m---> 10\u001b[0;31m         \u001b[0mparams\u001b[0m\u001b[0;34m[\u001b[0m\u001b[0mset_params\u001b[0m\u001b[0;34m]\u001b[0m\u001b[0;34m[\u001b[0m\u001b[0;36m1\u001b[0m\u001b[0;34m]\u001b[0m\u001b[0;34m[\u001b[0m\u001b[0mnode\u001b[0m\u001b[0;34m]\u001b[0m\u001b[0;34m[\u001b[0m\u001b[0mweight\u001b[0m\u001b[0;34m]\u001b[0m \u001b[0;34m=\u001b[0m \u001b[0mrand\u001b[0m\u001b[0;34m\u001b[0m\u001b[0;34m\u001b[0m\u001b[0m\n\u001b[0m\u001b[1;32m     11\u001b[0m \u001b[0;34m\u001b[0m\u001b[0m\n\u001b[1;32m     12\u001b[0m   \u001b[0;32mfor\u001b[0m \u001b[0mset_params\u001b[0m \u001b[0;32min\u001b[0m \u001b[0mrange\u001b[0m\u001b[0;34m(\u001b[0m\u001b[0;36m1\u001b[0m\u001b[0;34m,\u001b[0m\u001b[0mlen\u001b[0m\u001b[0;34m(\u001b[0m\u001b[0mparams\u001b[0m\u001b[0;34m)\u001b[0m\u001b[0;34m,\u001b[0m\u001b[0;36m2\u001b[0m\u001b[0;34m)\u001b[0m\u001b[0;34m:\u001b[0m\u001b[0;34m\u001b[0m\u001b[0;34m\u001b[0m\u001b[0m\n",
            "\u001b[0;31mKeyboardInterrupt\u001b[0m: "
          ]
        }
      ]
    },
    {
      "cell_type": "code",
      "metadata": {
        "id": "MvA_9U3zTKns"
      },
      "source": [
        "epoch_scores"
      ],
      "execution_count": null,
      "outputs": []
    },
    {
      "cell_type": "code",
      "metadata": {
        "id": "fqwuh_RDSP7-"
      },
      "source": [
        "test_network = networks[4]\r\n",
        "GameBoard().play_network(test_network, print_output=True)"
      ],
      "execution_count": null,
      "outputs": []
    }
  ]
}